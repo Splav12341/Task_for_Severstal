{
  "nbformat": 4,
  "nbformat_minor": 0,
  "metadata": {
    "colab": {
      "name": "Untitled3.ipynb",
      "provenance": []
    },
    "kernelspec": {
      "name": "python3",
      "display_name": "Python 3"
    },
    "language_info": {
      "name": "python"
    }
  },
  "cells": [
    {
      "cell_type": "code",
      "metadata": {
        "id": "qWlmXd9BBgBd"
      },
      "source": [
        "import numpy as np\n",
        "import pandas as pd\n",
        "import matplotlib.pyplot as plt\n",
        "%matplotlib inline"
      ],
      "execution_count": 1,
      "outputs": []
    },
    {
      "cell_type": "code",
      "metadata": {
        "colab": {
          "base_uri": "https://localhost:8080/"
        },
        "id": "lW4WU2mmBnUT",
        "outputId": "40adb0b4-87da-4932-f095-181db71a9a2e"
      },
      "source": [
        "data = pd.read_csv('Stat_for_2018_year.csv', encoding='ISO-8859–1', index_col=None)\n",
        "data.shape"
      ],
      "execution_count": 2,
      "outputs": [
        {
          "output_type": "execute_result",
          "data": {
            "text/plain": [
              "(237, 3)"
            ]
          },
          "metadata": {},
          "execution_count": 2
        }
      ]
    },
    {
      "cell_type": "code",
      "metadata": {
        "colab": {
          "base_uri": "https://localhost:8080/"
        },
        "id": "IZS7fg8XDNNl",
        "outputId": "4bcd8c60-d271-4170-b953-7b573d87e784"
      },
      "source": [
        "data.info()"
      ],
      "execution_count": 3,
      "outputs": [
        {
          "output_type": "stream",
          "name": "stdout",
          "text": [
            "<class 'pandas.core.frame.DataFrame'>\n",
            "RangeIndex: 237 entries, 0 to 236\n",
            "Data columns (total 3 columns):\n",
            " #   Column                    Non-Null Count  Dtype  \n",
            "---  ------                    --------------  -----  \n",
            " 0   ×èñëî áðàêîâàííûõ ëèñòîâ  237 non-null    int64  \n",
            " 1   Ñêîðîñòü ïðîêàòêè         237 non-null    float64\n",
            " 2   Ìàðêà ñòàëè               237 non-null    object \n",
            "dtypes: float64(1), int64(1), object(1)\n",
            "memory usage: 5.7+ KB\n"
          ]
        }
      ]
    },
    {
      "cell_type": "code",
      "metadata": {
        "id": "hnV-ncbTD1sm"
      },
      "source": [
        "data.rename(columns={'×èñëî áðàêîâàííûõ ëèñòîâ': 'число_бракованных'}, inplace=True)\n",
        "data.rename(columns={'Ñêîðîñòü ïðîêàòêè': \"скорость_прокатки\"}, inplace=True)\n",
        "data.rename(columns={'Ìàðêà ñòàëè': 'Марка_стали'}, inplace=True)"
      ],
      "execution_count": 4,
      "outputs": []
    },
    {
      "cell_type": "code",
      "metadata": {
        "id": "1RXOxW-tEiIE"
      },
      "source": [
        "x_columns = [\"число_бракованных\", \"скорость_прокатки\"]\n",
        "target_column = [\"Марка_стали\"]"
      ],
      "execution_count": 5,
      "outputs": []
    },
    {
      "cell_type": "code",
      "metadata": {
        "colab": {
          "base_uri": "https://localhost:8080/",
          "height": 265
        },
        "id": "Qe8sDZSqEpe5",
        "outputId": "eacb7b6b-e8c4-497c-e08b-ddd6701a8ddc"
      },
      "source": [
        "plt.figure(figsize=[8, 4])\n",
        "plt.subplot(1, 2, 1)\n",
        "plt.hist(data[\"число_бракованных\"], bins=20);\n",
        "\n",
        "plt.subplot(1, 2, 2)\n",
        "plt.hist(data['скорость_прокатки'], bins=20);"
      ],
      "execution_count": 6,
      "outputs": [
        {
          "output_type": "display_data",
          "data": {
            "image/png": "[encoded data removed]",
            "text/plain": [
              "<Figure size 576x288 with 2 Axes>"
            ]
          },
          "metadata": {
            "needs_background": "light"
          }
        }
      ]
    },
    {
      "cell_type": "markdown",
      "metadata": {
        "id": "bDC0Uaq3iC63"
      },
      "source": [
        "## Утверждение 1: Более 3 бракованных листов на партию выходит значимо чаще для стали марки А, чем для стали марки B."
      ]
    },
    {
      "cell_type": "code",
      "metadata": {
        "colab": {
          "base_uri": "https://localhost:8080/"
        },
        "id": "YmCLZUfSW64r",
        "outputId": "5356631c-d16b-4f4c-9d2a-98f8a7242af6"
      },
      "source": [
        "count_a=0\n",
        "count_b=0\n",
        "for row in data[[\"число_бракованных\", \"Марка_стали\"]].values:\n",
        "  if row[0] > 3 and row[1] == 'A':\n",
        "    count_a += 1\n",
        "  if row[0] > 3 and row[1] == 'B':\n",
        "    count_b += 1\n",
        "print('число_бракованных_A =', count_a, 'число_бракованных_B =', count_b)"
      ],
      "execution_count": 7,
      "outputs": [
        {
          "output_type": "stream",
          "name": "stdout",
          "text": [
            "число_бракованных_A = 53 число_бракованных_B = 44\n"
          ]
        }
      ]
    },
    {
      "cell_type": "markdown",
      "metadata": {
        "id": "cCsP2jr8iaFh"
      },
      "source": [
        "## Проверим утверждение, используя критерий хи-квадрат\n",
        "0-ая гипотеза: p1=p2=0.5 (вероятность более 3 бракованных А = вероятность более 3 бракованных В)\n",
        "\n",
        "n = более 3ех бракованных листов марки А и В\n",
        "\n",
        "статистика: T = (n*p1 - count_b)^2/n*p1 + (n*p2 - count_a)^2/n*p2\n",
        "\n",
        "При истинности 0ой гипотезы статистика стремится по распределению к Хи-квадрат с N-1 степенью свободы (N=2) => Хи-квадрат(1)\n",
        "\n",
        "Если уровень значимости alpha = 0.05 => Хи-квадрат_(1-альфа)_кванить = 3.8\n",
        "Если уровень значимости alpha = 0.75 => Хи-квадрат_(1-альфа)_кванить = 0.1\n",
        "Если T > Хи-квадрат_(1-альфа)_кванить, то отклоняем гипотезу"
      ]
    },
    {
      "cell_type": "code",
      "metadata": {
        "colab": {
          "base_uri": "https://localhost:8080/"
        },
        "id": "nsDOjwZmcB57",
        "outputId": "79d7d411-867f-4a02-d526-03cba82f2528"
      },
      "source": [
        "p = p1 = p2 = 0.5\n",
        "n = count_a + count_b \n",
        "T = (n*p - count_b)**2/n*p + (n*p - count_a)**2/n*p\n",
        "print(T)\n"
      ],
      "execution_count": 8,
      "outputs": [
        {
          "output_type": "stream",
          "name": "stdout",
          "text": [
            "0.20876288659793815\n"
          ]
        }
      ]
    },
    {
      "cell_type": "markdown",
      "metadata": {
        "id": "buogRq52kXnQ"
      },
      "source": [
        "Т = 0.20876288659793815\n",
        "\n",
        "Т.е. при альфа = 0.05 (Хи-квадрат_(1-альфа)_кванить = 3.8), не отклоняем нулевую гипотезу\n",
        "А при альфа = 0.75 (Хи-квадрат_(1-альфа)_кванить = 0.1), то нулевую гипотезу отклоняем. Т.е. мы на 25% уверены в том, что более 3 бракованных листов на партию выходит значимо чаще для стали марки А, чем для стали марки B."
      ]
    },
    {
      "cell_type": "markdown",
      "metadata": {
        "id": "hCM9vSROlTrW"
      },
      "source": [
        "## Утверждение 2: При скоростях прокатки более 4 м/с свыше 3 бракованных листов стали на партию выходит значимо чаще, чем при меньших скоростях прокатки."
      ]
    },
    {
      "cell_type": "code",
      "metadata": {
        "colab": {
          "base_uri": "https://localhost:8080/"
        },
        "id": "PijGvLb2ZtQm",
        "outputId": "023fb98f-f769-4ec3-a319-cd4597c58e74"
      },
      "source": [
        "count_more_then_4=0\n",
        "count_less_then_4=0\n",
        "for row in data[[\"число_бракованных\", \"скорость_прокатки\"]].values:\n",
        "  if row[1] > 4 and row[0]>3:\n",
        "    count_more_then_4 += 1\n",
        "  if row[1] <= 4 and row[0]>3:\n",
        "    count_less_then_4 += 1\n",
        "\n",
        "print('More_then_4 =', count_more_then_4, 'Less_then_4 =', count_less_then_4)"
      ],
      "execution_count": 9,
      "outputs": [
        {
          "output_type": "stream",
          "name": "stdout",
          "text": [
            "More_then_4 = 74 Less_then_4 = 23\n"
          ]
        }
      ]
    },
    {
      "cell_type": "markdown",
      "metadata": {
        "id": "2FF35h6glpQr"
      },
      "source": [
        "##Снова проверим утверждение критерием Хи-квадрат\n"
      ]
    },
    {
      "cell_type": "markdown",
      "metadata": {
        "id": "41eMxyQtl4Br"
      },
      "source": [
        "0-ая гипотеза: p1=p2=0.5 (вероятность более 3 бракованных при скоростях свыше 4м/c = вероятность более 3 бракованных при скоростях не выше 4м/с)\n",
        "\n",
        "n = общее кол-во партий, у которых более 3ех бракованных листов\n",
        "\n",
        "статистика: T = (n*p1 - count_b)^2/n*p1 + (n*p2 - count_a)^2/n*p2\n",
        "\n",
        "При истинности 0ой гипотезы статистика стремится по распределению к Хи-квадрат с N-1 степенью свободы (N=2) => Хи-квадрат(1)\n",
        "\n",
        "Если уровень значимости alpha = 0.01 => Хи-квадрат_(1-альфа)_кванить = 6.6\n",
        "Если T > Хи-квадрат_(1-альфа)_кванить, то отклоняем нулевую гипотезу"
      ]
    },
    {
      "cell_type": "code",
      "metadata": {
        "colab": {
          "base_uri": "https://localhost:8080/"
        },
        "id": "rlDleW0JgLFj",
        "outputId": "0a1a91d6-2243-4b34-c019-7d00026b23ff"
      },
      "source": [
        "p = 0.5\n",
        "n = count_more_then_4 + count_less_then_4\n",
        "T = (n*p - count_more_then_4)**2/n*p + (n*p - count_less_then_4)**2/n*p\n",
        "print(T)\n",
        "\n",
        "# т.е. мы на 99% уеверны в том, что при скоростях прокатки более 4 м/с свыше 3 бракованных листов стали на партию\n",
        "#выходит значимо чаще, чем при меньших скоростях прокатки."
      ],
      "execution_count": 10,
      "outputs": [
        {
          "output_type": "stream",
          "name": "stdout",
          "text": [
            "6.703608247422681\n"
          ]
        }
      ]
    },
    {
      "cell_type": "markdown",
      "metadata": {
        "id": "P0yShP9zmhK3"
      },
      "source": [
        "Т = 6.703608247422681\n",
        "\n",
        "Т.е. при альфа = 0.01 (Хи-квадрат_(1-альфа)_кванить = 6.6) => отклоняем нулевую гипотезу\n",
        "\n",
        "Т.е. мы на 99% уверены в том, что при скоростях прокатки более 4 м/с свыше 3 бракованных листов стали на партию выходит значимо чаще, чем при меньших скоростях прокатки."
      ]
    }
  ]
}
